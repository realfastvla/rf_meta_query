{
 "cells": [
  {
   "cell_type": "markdown",
   "metadata": {},
   "source": [
    "# Example cases of SDSS query"
   ]
  },
  {
   "cell_type": "code",
   "execution_count": 18,
   "metadata": {},
   "outputs": [],
   "source": [
    "# imports\n",
    "from importlib import reload\n",
    "\n",
    "import requests\n",
    "from io import StringIO, BytesIO\n",
    "from PIL import Image\n",
    "\n",
    "from matplotlib import pyplot as plt\n",
    "\n",
    "from astropy.coordinates import SkyCoord\n",
    "from astropy import units\n",
    "\n",
    "from astroquery.sdss import SDSS\n",
    "\n",
    "from rf_meta_query import images\n",
    "from rf_meta_query import sdss\n",
    "from rf_meta_query import frb_cand\n",
    "from rf_meta_query import meta_io"
   ]
  },
  {
   "cell_type": "markdown",
   "metadata": {},
   "source": [
    "## Test RA/DEC"
   ]
  },
  {
   "cell_type": "code",
   "execution_count": 2,
   "metadata": {},
   "outputs": [],
   "source": [
    "coord = SkyCoord('J081240.68+320809.0', unit=(units.hourangle, units.deg))"
   ]
  },
  {
   "cell_type": "code",
   "execution_count": 3,
   "metadata": {},
   "outputs": [
    {
     "data": {
      "text/plain": [
       "<SkyCoord (ICRS): (ra, dec) in deg\n",
       "    (123.1695, 32.13583333)>"
      ]
     },
     "execution_count": 3,
     "metadata": {},
     "output_type": "execute_result"
    }
   ],
   "source": [
    "coord"
   ]
  },
  {
   "cell_type": "markdown",
   "metadata": {},
   "source": [
    "## Generate an FRB candidate object"
   ]
  },
  {
   "cell_type": "code",
   "execution_count": 8,
   "metadata": {},
   "outputs": [],
   "source": [
    "frbc = frb_cand.build_frb_cand(coord.ra.value, coord.dec.value)"
   ]
  },
  {
   "cell_type": "markdown",
   "metadata": {},
   "source": [
    "## Do a query"
   ]
  },
  {
   "cell_type": "markdown",
   "metadata": {},
   "source": [
    "### Other Parameters"
   ]
  },
  {
   "cell_type": "code",
   "execution_count": 5,
   "metadata": {},
   "outputs": [],
   "source": [
    "radius=0.5*units.arcmin\n",
    "timeout = 30. # seconds"
   ]
  },
  {
   "cell_type": "markdown",
   "metadata": {},
   "source": [
    "### Query"
   ]
  },
  {
   "cell_type": "code",
   "execution_count": 10,
   "metadata": {},
   "outputs": [
    {
     "name": "stderr",
     "output_type": "stream",
     "text": [
      "/home/xavier/.pyenv/versions/anaconda3-5.0.1/lib/python3.6/site-packages/h5py/__init__.py:36: FutureWarning: Conversion of the second argument of issubdtype from `float` to `np.floating` is deprecated. In future, it will be treated as `np.float64 == np.dtype(float).type`.\n",
      "  from ._conv import register_converters as _register_converters\n"
     ]
    }
   ],
   "source": [
    "catalog = sdss.get_catalog(frbc['coord'], radius=radius)"
   ]
  },
  {
   "cell_type": "code",
   "execution_count": 11,
   "metadata": {},
   "outputs": [
    {
     "data": {
      "text/html": [
       "<i>Table length=17</i>\n",
       "<table id=\"table140420661894896\" class=\"table-striped table-bordered table-condensed\">\n",
       "<thead><tr><th>ra</th><th>dec</th><th>objid</th><th>run</th><th>rerun</th><th>camcol</th><th>field</th><th>petroMag_u</th><th>petroMag_g</th><th>petroMag_r</th><th>petroMag_i</th><th>petroMag_z</th><th>petroMagErr_u</th><th>petroMagErr_g</th><th>petroMagErr_r</th><th>petroMagErr_i</th><th>petroMagErr_z</th><th>z</th><th>z_error</th><th>separation</th></tr></thead>\n",
       "<thead><tr><th>float64</th><th>float64</th><th>int64</th><th>int64</th><th>int64</th><th>int64</th><th>int64</th><th>float64</th><th>float64</th><th>float64</th><th>float64</th><th>float64</th><th>float64</th><th>float64</th><th>float64</th><th>float64</th><th>float64</th><th>float64</th><th>float64</th><th>float64</th></tr></thead>\n",
       "<tr><td>123.169534700537</td><td>32.1357193228256</td><td>1237657775537520843</td><td>2864</td><td>301</td><td>4</td><td>106</td><td>19.67062</td><td>17.91037</td><td>17.51346</td><td>17.33699</td><td>17.18128</td><td>0.03277</td><td>0.004750669</td><td>0.0045466</td><td>0.00519813</td><td>0.01630831</td><td>-9999.0</td><td>-9999.0</td><td>0.4238504178923679</td></tr>\n",
       "<tr><td>123.169534700537</td><td>32.1357193228256</td><td>1237657775537520842</td><td>2864</td><td>301</td><td>4</td><td>106</td><td>19.28115</td><td>17.74466</td><td>17.31748</td><td>17.08764</td><td>16.66548</td><td>0.1677273</td><td>0.02521392</td><td>0.07739115</td><td>0.0460808</td><td>0.1487736</td><td>-9999.0</td><td>-9999.0</td><td>0.4238504178923679</td></tr>\n",
       "<tr><td>123.169546582556</td><td>32.1357212395852</td><td>1237657775537520841</td><td>2864</td><td>301</td><td>4</td><td>106</td><td>19.16389</td><td>17.66305</td><td>17.32551</td><td>17.16616</td><td>16.52074</td><td>0.176444</td><td>0.04300211</td><td>0.07475483</td><td>0.02923543</td><td>0.1569496</td><td>-9999.0</td><td>-9999.0</td><td>0.4277940279535372</td></tr>\n",
       "<tr><td>123.16766122946</td><td>32.1342384031541</td><td>1237657775537520844</td><td>2864</td><td>301</td><td>4</td><td>106</td><td>22.96884</td><td>20.75422</td><td>19.72793</td><td>19.28872</td><td>19.14515</td><td>0.466078</td><td>0.03331742</td><td>0.02162988</td><td>0.02281602</td><td>0.08342973</td><td>-9999.0</td><td>-9999.0</td><td>8.024248842946777</td></tr>\n",
       "<tr><td>123.172015412492</td><td>32.132939000809</td><td>1237657775537520840</td><td>2864</td><td>301</td><td>4</td><td>106</td><td>23.32122</td><td>20.10976</td><td>18.96083</td><td>18.33432</td><td>18.07801</td><td>0.6996557</td><td>0.02105831</td><td>0.01282861</td><td>0.01130248</td><td>0.03654314</td><td>-9999.0</td><td>-9999.0</td><td>12.9371347404734</td></tr>\n",
       "<tr><td>123.172027293728</td><td>32.1329409363786</td><td>1237657775537520839</td><td>2864</td><td>301</td><td>4</td><td>106</td><td>23.46308</td><td>20.06863</td><td>18.95946</td><td>18.33715</td><td>18.02495</td><td>0.7732494</td><td>0.02040411</td><td>0.01278766</td><td>0.01129261</td><td>0.03469409</td><td>-9999.0</td><td>-9999.0</td><td>12.95303394951709</td></tr>\n",
       "<tr><td>123.175444741424</td><td>32.1322632481266</td><td>1237657775537521851</td><td>2864</td><td>301</td><td>4</td><td>106</td><td>24.71429</td><td>23.49401</td><td>22.45763</td><td>21.76819</td><td>21.28895</td><td>2.579592</td><td>0.8131505</td><td>0.6159594</td><td>0.4157056</td><td>1.134642</td><td>0.361525</td><td>0.06386</td><td>22.217307023628287</td></tr>\n",
       "<tr><td>123.168282937797</td><td>32.1294679619694</td><td>1237657775537521841</td><td>2864</td><td>301</td><td>4</td><td>106</td><td>27.7445</td><td>26.52192</td><td>22.61738</td><td>24.16709</td><td>24.02173</td><td>0.2975118</td><td>0.9685107</td><td>0.6378359</td><td>2.562266</td><td>1.713091</td><td>0.411272</td><td>0.089966</td><td>23.21376295122211</td></tr>\n",
       "<tr><td>123.164542142531</td><td>32.1412005263838</td><td>1237657775537520845</td><td>2864</td><td>301</td><td>4</td><td>106</td><td>22.06848</td><td>19.63814</td><td>18.21876</td><td>17.18122</td><td>16.64994</td><td>0.2240221</td><td>0.01390511</td><td>0.006994893</td><td>0.004653853</td><td>0.01070175</td><td>-9999.0</td><td>-9999.0</td><td>24.530538767399694</td></tr>\n",
       "<tr><td>123.16453026181</td><td>32.1411987613447</td><td>1237657775537520846</td><td>2864</td><td>301</td><td>4</td><td>106</td><td>22.08803</td><td>19.65694</td><td>18.21882</td><td>17.18019</td><td>16.66328</td><td>0.2291692</td><td>0.01412268</td><td>0.007011252</td><td>0.004663331</td><td>0.01082554</td><td>-9999.0</td><td>-9999.0</td><td>24.547868453902428</td></tr>\n",
       "<tr><td>123.161196150046</td><td>32.1378682225832</td><td>1237657775537521298</td><td>2864</td><td>301</td><td>4</td><td>106</td><td>23.26565</td><td>23.58841</td><td>21.83458</td><td>21.12266</td><td>20.16996</td><td>1.193582</td><td>0.7946455</td><td>0.2789228</td><td>0.2322823</td><td>0.4597496</td><td>-9999.0</td><td>-9999.0</td><td>26.35220699281642</td></tr>\n",
       "<tr><td>123.167116702765</td><td>32.1282562564917</td><td>1237657775537521836</td><td>2864</td><td>301</td><td>4</td><td>106</td><td>23.35986</td><td>24.15181</td><td>26.01649</td><td>24.80073</td><td>20.54601</td><td>1.502583</td><td>1.3436</td><td>1.430407</td><td>2.405054</td><td>0.6907642</td><td>0.662576</td><td>0.150734</td><td>28.228537453116086</td></tr>\n",
       "<tr><td>123.177604053768</td><td>32.1319294855006</td><td>1237657775537521311</td><td>2864</td><td>301</td><td>4</td><td>106</td><td>24.42677</td><td>24.9011</td><td>23.85567</td><td>22.79086</td><td>22.08609</td><td>0.7148367</td><td>0.508665</td><td>0.4925121</td><td>0.3202515</td><td>0.6502134</td><td>-9999.0</td><td>-9999.0</td><td>28.422894153423957</td></tr>\n",
       "<tr><td>123.177928711355</td><td>32.1397531264239</td><td>1237657775537521861</td><td>2864</td><td>301</td><td>4</td><td>106</td><td>25.44478</td><td>21.82635</td><td>21.67578</td><td>20.69386</td><td>20.7842</td><td>5.194001</td><td>0.188671</td><td>0.2764691</td><td>0.1796654</td><td>0.9689029</td><td>0.638869</td><td>0.133673</td><td>29.31387433649567</td></tr>\n",
       "<tr><td>123.177585756112</td><td>32.1308492803987</td><td>1237657775537521310</td><td>2864</td><td>301</td><td>4</td><td>106</td><td>22.15376</td><td>21.81237</td><td>20.74358</td><td>20.08004</td><td>19.79268</td><td>0.3502927</td><td>0.1167019</td><td>0.07465383</td><td>0.06471169</td><td>0.2232968</td><td>-9999.0</td><td>-9999.0</td><td>30.48837265434931</td></tr>\n",
       "<tr><td>123.177585756614</td><td>32.1308492804514</td><td>1237657775537521309</td><td>2864</td><td>301</td><td>4</td><td>106</td><td>22.16181</td><td>21.81482</td><td>20.75008</td><td>20.0795</td><td>19.80917</td><td>0.3447707</td><td>0.1142341</td><td>0.07310836</td><td>0.06316051</td><td>0.220382</td><td>-9999.0</td><td>-9999.0</td><td>30.48837377998983</td></tr>\n",
       "<tr><td>123.17571643107</td><td>32.1434063664113</td><td>1237657775537521868</td><td>2864</td><td>301</td><td>4</td><td>106</td><td>26.16357</td><td>27.62659</td><td>23.59326</td><td>22.15723</td><td>22.80742</td><td>1.091105</td><td>0.4311551</td><td>1.29025</td><td>0.6014752</td><td>2.550827</td><td>-9999.0</td><td>-9999.0</td><td>33.20174231053229</td></tr>\n",
       "</table>"
      ],
      "text/plain": [
       "<Table length=17>\n",
       "       ra              dec        ... z_error      separation    \n",
       "    float64          float64      ... float64       float64      \n",
       "---------------- ---------------- ... -------- ------------------\n",
       "123.169534700537 32.1357193228256 ...  -9999.0 0.4238504178923679\n",
       "123.169534700537 32.1357193228256 ...  -9999.0 0.4238504178923679\n",
       "123.169546582556 32.1357212395852 ...  -9999.0 0.4277940279535372\n",
       " 123.16766122946 32.1342384031541 ...  -9999.0  8.024248842946777\n",
       "123.172015412492  32.132939000809 ...  -9999.0   12.9371347404734\n",
       "123.172027293728 32.1329409363786 ...  -9999.0  12.95303394951709\n",
       "123.175444741424 32.1322632481266 ...  0.06386 22.217307023628287\n",
       "123.168282937797 32.1294679619694 ... 0.089966  23.21376295122211\n",
       "123.164542142531 32.1412005263838 ...  -9999.0 24.530538767399694\n",
       " 123.16453026181 32.1411987613447 ...  -9999.0 24.547868453902428\n",
       "123.161196150046 32.1378682225832 ...  -9999.0  26.35220699281642\n",
       "123.167116702765 32.1282562564917 ... 0.150734 28.228537453116086\n",
       "123.177604053768 32.1319294855006 ...  -9999.0 28.422894153423957\n",
       "123.177928711355 32.1397531264239 ... 0.133673  29.31387433649567\n",
       "123.177585756112 32.1308492803987 ...  -9999.0  30.48837265434931\n",
       "123.177585756614 32.1308492804514 ...  -9999.0  30.48837377998983\n",
       " 123.17571643107 32.1434063664113 ...  -9999.0  33.20174231053229"
      ]
     },
     "execution_count": 11,
     "metadata": {},
     "output_type": "execute_result"
    }
   ],
   "source": [
    "catalog"
   ]
  },
  {
   "cell_type": "markdown",
   "metadata": {},
   "source": [
    "## Grab an image"
   ]
  },
  {
   "cell_type": "markdown",
   "metadata": {},
   "source": [
    "### Generate URL"
   ]
  },
  {
   "cell_type": "code",
   "execution_count": 12,
   "metadata": {},
   "outputs": [
    {
     "data": {
      "text/plain": [
       "'http://skyservice.pha.jhu.edu/DR12/ImgCutout/getjpeg.aspx?ra=123.16949999999999&dec=32.13583333333333&scale=0.39612&width=3&height=3&query='"
      ]
     },
     "execution_count": 12,
     "metadata": {},
     "output_type": "execute_result"
    }
   ],
   "source": [
    "imsize = 1. # arcmin\n",
    "sdss_url = sdss.get_url(frbc['coord'], imsize)\n",
    "sdss_url"
   ]
  },
  {
   "cell_type": "markdown",
   "metadata": {},
   "source": [
    "### Grab it"
   ]
  },
  {
   "cell_type": "code",
   "execution_count": 15,
   "metadata": {},
   "outputs": [],
   "source": [
    "img = images.grab_from_url(sdss_url)"
   ]
  },
  {
   "cell_type": "markdown",
   "metadata": {},
   "source": [
    "### Plot me"
   ]
  },
  {
   "cell_type": "code",
   "execution_count": 16,
   "metadata": {},
   "outputs": [
    {
     "data": {
      "image/png": "[encoded data removed]",
      "text/plain": [
       "<matplotlib.figure.Figure at 0x7fb63b9d7320>"
      ]
     },
     "metadata": {},
     "output_type": "display_data"
    }
   ],
   "source": [
    "plt.clf()\n",
    "plt.imshow(img,aspect='equal',extent=(-imsize/2., imsize/2, -imsize/2.,imsize/2))\n",
    "# Label me\n",
    "plt.xlabel('Relative ArcMin', fontsize=20)\n",
    "xpos = 0.22*imsize\n",
    "ypos = 0.02*imsize\n",
    "plt.text(-imsize/2.-xpos, 0., 'EAST', rotation=90.,fontsize=20)\n",
    "plt.text(0.,imsize/2.+ypos, 'NORTH', fontsize=20, horizontalalignment='center')\n",
    "plt.savefig('tst.png', dpi=300)\n",
    "#\n",
    "plt.show()"
   ]
  },
  {
   "cell_type": "markdown",
   "metadata": {},
   "source": [
    "## Write"
   ]
  },
  {
   "cell_type": "code",
   "execution_count": 17,
   "metadata": {},
   "outputs": [],
   "source": [
    "# Prep plot\n",
    "plt = images.gen_snapshot_plt(img, imsize)"
   ]
  },
  {
   "cell_type": "code",
   "execution_count": 20,
   "metadata": {},
   "outputs": [
    {
     "name": "stdout",
     "output_type": "stream",
     "text": [
      "Wrote: ./sdss_snap.png\n"
     ]
    }
   ],
   "source": [
    "meta_io.save_plt(plt, './', 'sdss_snap', verbose=True)"
   ]
  },
  {
   "cell_type": "code",
   "execution_count": null,
   "metadata": {},
   "outputs": [],
   "source": []
  }
 ],
 "metadata": {
  "kernelspec": {
   "display_name": "Python 3",
   "language": "python",
   "name": "python3"
  },
  "language_info": {
   "codemirror_mode": {
    "name": "ipython",
    "version": 3
   },
   "file_extension": ".py",
   "mimetype": "text/x-python",
   "name": "python",
   "nbconvert_exporter": "python",
   "pygments_lexer": "ipython3",
   "version": "3.6.3"
  }
 },
 "nbformat": 4,
 "nbformat_minor": 2
}
