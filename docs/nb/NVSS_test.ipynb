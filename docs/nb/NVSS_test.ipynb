{
 "cells": [
  {
   "cell_type": "markdown",
   "metadata": {},
   "source": [
    "# NVSS query test"
   ]
  },
  {
   "cell_type": "code",
   "execution_count": 20,
   "metadata": {},
   "outputs": [],
   "source": [
    "# imports\n",
    "import numpy as np\n",
    "from astropy.coordinates import SkyCoord\n",
    "from astropy import units\n",
    "\n",
    "from astroquery.heasarc import Heasarc"
   ]
  },
  {
   "cell_type": "markdown",
   "metadata": {},
   "source": [
    "## Test coord"
   ]
  },
  {
   "cell_type": "code",
   "execution_count": 15,
   "metadata": {},
   "outputs": [],
   "source": [
    "coord = SkyCoord(ra=0.000375, dec=-34.11930556, unit='deg')"
   ]
  },
  {
   "cell_type": "markdown",
   "metadata": {},
   "source": [
    "## Init"
   ]
  },
  {
   "cell_type": "code",
   "execution_count": 16,
   "metadata": {},
   "outputs": [],
   "source": [
    "heasarc = Heasarc()"
   ]
  },
  {
   "cell_type": "markdown",
   "metadata": {},
   "source": [
    "## Missions"
   ]
  },
  {
   "cell_type": "code",
   "execution_count": 6,
   "metadata": {},
   "outputs": [],
   "source": [
    "missions = heasarc.query_mission_list()"
   ]
  },
  {
   "cell_type": "code",
   "execution_count": 11,
   "metadata": {},
   "outputs": [
    {
     "data": {
      "text/plain": [
       "1"
      ]
     },
     "execution_count": 11,
     "metadata": {},
     "output_type": "execute_result"
    }
   ],
   "source": [
    "np.sum(missions['name'] == 'nvss')"
   ]
  },
  {
   "cell_type": "markdown",
   "metadata": {},
   "source": [
    "## Query me"
   ]
  },
  {
   "cell_type": "code",
   "execution_count": 17,
   "metadata": {},
   "outputs": [],
   "source": [
    "table = heasarc.query_region(coord, mission='nvss', radius='1 arcminute')"
   ]
  },
  {
   "cell_type": "code",
   "execution_count": 18,
   "metadata": {},
   "outputs": [
    {
     "data": {
      "text/html": [
       "<i>Table length=1</i>\n",
       "<table id=\"table139938031798256\" class=\"table-striped table-bordered table-condensed\">\n",
       "<thead><tr><th>NAME</th><th>RA</th><th>DEC</th><th>FLUX_20_CM</th><th>FLUX_20_CM_ERROR</th><th>SEARCH_OFFSET_</th></tr></thead>\n",
       "<thead><tr><th></th><th>DEGREE</th><th>DEGREE</th><th>MJY</th><th>MJY</th><th></th></tr></thead>\n",
       "<thead><tr><th>bytes19</th><th>float64</th><th>float64</th><th>float64</th><th>float64</th><th>bytes49</th></tr></thead>\n",
       "<tr><td>NVSS J000000-340709</td><td>0.00038</td><td>-34.11931</td><td>2.7</td><td>0.5</td><td>0.000 (0.0003776157961756126,-34.11930303225884)</td></tr>\n",
       "</table>"
      ],
      "text/plain": [
       "<Table length=1>\n",
       "        NAME        ...                   SEARCH_OFFSET_                 \n",
       "                    ...                                                  \n",
       "      bytes19       ...                      bytes49                     \n",
       "------------------- ... -------------------------------------------------\n",
       "NVSS J000000-340709 ... 0.000 (0.0003776157961756126,-34.11930303225884)"
      ]
     },
     "execution_count": 18,
     "metadata": {},
     "output_type": "execute_result"
    }
   ],
   "source": [
    "table"
   ]
  },
  {
   "cell_type": "markdown",
   "metadata": {},
   "source": [
    "----"
   ]
  },
  {
   "cell_type": "code",
   "execution_count": 21,
   "metadata": {},
   "outputs": [],
   "source": [
    "tst_coord = SkyCoord('J081240.68+320809.0', unit=(units.hourangle, units.deg))"
   ]
  },
  {
   "cell_type": "code",
   "execution_count": 34,
   "metadata": {},
   "outputs": [],
   "source": [
    "table = heasarc.query_region(tst_coord, mission='nvss', radius='1 arcmin')"
   ]
  },
  {
   "cell_type": "code",
   "execution_count": 35,
   "metadata": {},
   "outputs": [
    {
     "data": {
      "text/html": [
       "<i>Table length=1</i>\n",
       "<table id=\"table139937995231072\" class=\"table-striped table-bordered table-condensed\">\n",
       "<thead><tr><th>NAME</th><th>RA</th><th>DEC</th><th>FLUX_20_CM</th><th>FLUX_20_CM_ERROR</th><th>SEARCH_OFFSET_</th></tr></thead>\n",
       "<thead><tr><th></th><th>DEGREE</th><th>DEGREE</th><th>MJY</th><th>MJY</th><th></th></tr></thead>\n",
       "<thead><tr><th>bytes19</th><th>float64</th><th>float64</th><th>float64</th><th>float64</th><th>bytes46</th></tr></thead>\n",
       "<tr><td>NVSS J081240+320801</td><td>123.16742</td><td>32.13361</td><td>36.5</td><td>1.5</td><td>0.170 (123.16950579044646,32.135827323283664)</td></tr>\n",
       "</table>"
      ],
      "text/plain": [
       "<Table length=1>\n",
       "        NAME            RA    ...                 SEARCH_OFFSET_                \n",
       "                      DEGREE  ...                                               \n",
       "      bytes19        float64  ...                    bytes46                    \n",
       "------------------- --------- ... ----------------------------------------------\n",
       "NVSS J081240+320801 123.16742 ... 0.170 (123.16950579044646,32.135827323283664)"
      ]
     },
     "execution_count": 35,
     "metadata": {},
     "output_type": "execute_result"
    }
   ],
   "source": [
    "table"
   ]
  },
  {
   "cell_type": "code",
   "execution_count": 26,
   "metadata": {},
   "outputs": [
    {
     "data": {
      "text/plain": [
       "<SkyCoord (ICRS): (ra, dec) in deg\n",
       "    (123.1695, 32.13583333)>"
      ]
     },
     "execution_count": 26,
     "metadata": {},
     "output_type": "execute_result"
    }
   ],
   "source": [
    "tst_coord"
   ]
  },
  {
   "cell_type": "code",
   "execution_count": 29,
   "metadata": {},
   "outputs": [
    {
     "data": {
      "text/latex": [
       "$0.174931\\mathrm{{}^{\\prime}}$"
      ],
      "text/plain": [
       "<Angle 0.17493074 arcmin>"
      ]
     },
     "execution_count": 29,
     "metadata": {},
     "output_type": "execute_result"
    }
   ],
   "source": [
    "tst_coord.separation(SkyCoord(ra=123.16742, dec=32.13351, unit='deg')).to('arcmin')"
   ]
  },
  {
   "cell_type": "code",
   "execution_count": 33,
   "metadata": {},
   "outputs": [
    {
     "data": {
      "text/plain": [
       "OrderedDict([('', ['', '']),\n",
       "             ('EXTNAME', 'NVSS'),\n",
       "             ('TABLE', 'HEASARC_NVSS'),\n",
       "             ('TAB_DESC', 'NRAO VLA SKY SURVEY CATALOG'),\n",
       "             ('TAB_URL',\n",
       "              'HTTP://HEASARC.GSFC.NASA.GOV/W3BROWSE/RADIO-CATALOG/NVSS.HTML'),\n",
       "             ('radius', 1.0)])"
      ]
     },
     "execution_count": 33,
     "metadata": {},
     "output_type": "execute_result"
    }
   ],
   "source": [
    "table.meta"
   ]
  },
  {
   "cell_type": "code",
   "execution_count": null,
   "metadata": {},
   "outputs": [],
   "source": []
  }
 ],
 "metadata": {
  "kernelspec": {
   "display_name": "Python 3",
   "language": "python",
   "name": "python3"
  },
  "language_info": {
   "codemirror_mode": {
    "name": "ipython",
    "version": 3
   },
   "file_extension": ".py",
   "mimetype": "text/x-python",
   "name": "python",
   "nbconvert_exporter": "python",
   "pygments_lexer": "ipython3",
   "version": "3.6.3"
  }
 },
 "nbformat": 4,
 "nbformat_minor": 2
}
